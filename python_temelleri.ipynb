{
 "cells": [
  {
   "cell_type": "markdown",
   "id": "8e96c084",
   "metadata": {},
   "source": [
    "Integer : Tam Sayılar"
   ]
  },
  {
   "cell_type": "code",
   "execution_count": null,
   "id": "2621e284",
   "metadata": {},
   "outputs": [],
   "source": [
    "benimdegiskenim = 10\n",
    "benimdigerdegiskenim = 20"
   ]
  },
  {
   "cell_type": "code",
   "execution_count": null,
   "id": "c3ec2615",
   "metadata": {},
   "outputs": [],
   "source": [
    "type(benimdegiskenim)"
   ]
  },
  {
   "cell_type": "markdown",
   "id": "915b151d",
   "metadata": {},
   "source": [
    "float : Kesirli sayılar"
   ]
  },
  {
   "cell_type": "code",
   "execution_count": null,
   "id": "ed18592a",
   "metadata": {},
   "outputs": [],
   "source": [
    "sonuc = benimdigerdegiskenim / benimdegiskenim"
   ]
  },
  {
   "cell_type": "code",
   "execution_count": null,
   "id": "2be93fce",
   "metadata": {},
   "outputs": [],
   "source": [
    "type(sonuc)"
   ]
  },
  {
   "cell_type": "markdown",
   "id": "e2c93973",
   "metadata": {},
   "source": [
    "Matematiksel İşlemler "
   ]
  },
  {
   "cell_type": "markdown",
   "id": "3862ded1",
   "metadata": {},
   "source": [
    "üstlü ifadelerin gösterimi: 5*5*5*5 = 5**4 "
   ]
  },
  {
   "cell_type": "markdown",
   "id": "7980d076",
   "metadata": {},
   "source": [
    "input : girdi, kullanıcıdan birşey isteme"
   ]
  },
  {
   "cell_type": "code",
   "execution_count": null,
   "id": "3087f1f0",
   "metadata": {},
   "outputs": [],
   "source": [
    "input(\"Yaşınızı Giriniz\")"
   ]
  },
  {
   "cell_type": "markdown",
   "id": "47f65e3f",
   "metadata": {},
   "source": [
    "string : Metin"
   ]
  },
  {
   "cell_type": "markdown",
   "id": "0b7c16ef",
   "metadata": {},
   "source": [
    "split : ikiye bölme komutu"
   ]
  },
  {
   "cell_type": "code",
   "execution_count": null,
   "id": "b96e27fe",
   "metadata": {},
   "outputs": [],
   "source": [
    "isimString =\"Baran Tonyalı\""
   ]
  },
  {
   "cell_type": "code",
   "execution_count": null,
   "id": "75012a0a",
   "metadata": {},
   "outputs": [],
   "source": [
    "isimString[0]"
   ]
  },
  {
   "cell_type": "markdown",
   "id": "8f43d501",
   "metadata": {},
   "source": [
    "Slicing : Kesmek"
   ]
  },
  {
   "cell_type": "code",
   "execution_count": null,
   "id": "9fec6626",
   "metadata": {},
   "outputs": [],
   "source": [
    "harfString = \"abcvcsad\""
   ]
  },
  {
   "cell_type": "code",
   "execution_count": null,
   "id": "af13c1a8",
   "metadata": {},
   "outputs": [],
   "source": [
    "harfstring[3:]"
   ]
  },
  {
   "cell_type": "code",
   "execution_count": null,
   "id": "a932d2c8",
   "metadata": {},
   "outputs": [],
   "source": []
  }
 ],
 "metadata": {
  "kernelspec": {
   "display_name": "Python 3 (ipykernel)",
   "language": "python",
   "name": "python3"
  },
  "language_info": {
   "codemirror_mode": {
    "name": "ipython",
    "version": 3
   },
   "file_extension": ".py",
   "mimetype": "text/x-python",
   "name": "python",
   "nbconvert_exporter": "python",
   "pygments_lexer": "ipython3",
   "version": "3.10.9"
  }
 },
 "nbformat": 4,
 "nbformat_minor": 5
}
