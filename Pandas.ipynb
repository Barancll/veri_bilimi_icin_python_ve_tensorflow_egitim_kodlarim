{
 "cells": [
  {
   "cell_type": "code",
   "execution_count": 14,
   "id": "c36d4e31",
   "metadata": {},
   "outputs": [],
   "source": [
    "import pandas as pd\n",
    "import numpy as np"
   ]
  },
  {
   "cell_type": "markdown",
   "id": "97392519",
   "metadata": {},
   "source": [
    "Series"
   ]
  },
  {
   "cell_type": "code",
   "execution_count": 15,
   "id": "98063a31",
   "metadata": {},
   "outputs": [],
   "source": [
    "benimSozlugum = {\"Atil\" : 50, \"Zeynep\" : 40, \"Mehmet\" : 30}"
   ]
  },
  {
   "cell_type": "code",
   "execution_count": 16,
   "id": "331cc8d0",
   "metadata": {},
   "outputs": [
    {
     "data": {
      "text/plain": [
       "Atil      50\n",
       "Zeynep    40\n",
       "Mehmet    30\n",
       "dtype: int64"
      ]
     },
     "execution_count": 16,
     "metadata": {},
     "output_type": "execute_result"
    }
   ],
   "source": [
    "pd.Series(benimSozlugum)"
   ]
  },
  {
   "cell_type": "code",
   "execution_count": 17,
   "id": "2cae4387",
   "metadata": {},
   "outputs": [],
   "source": [
    "benimYaslarim = [50,40,30]\n",
    "benimIsimlerim = [\"Atil\", \"Zeynep\", \"Mehmet\"]"
   ]
  },
  {
   "cell_type": "code",
   "execution_count": 18,
   "id": "a4a8a842",
   "metadata": {},
   "outputs": [
    {
     "data": {
      "text/plain": [
       "0    50\n",
       "1    40\n",
       "2    30\n",
       "dtype: int64"
      ]
     },
     "execution_count": 18,
     "metadata": {},
     "output_type": "execute_result"
    }
   ],
   "source": [
    "pd.Series(benimYaslarim)"
   ]
  },
  {
   "cell_type": "code",
   "execution_count": 19,
   "id": "fb276fc0",
   "metadata": {},
   "outputs": [
    {
     "data": {
      "text/plain": [
       "Atil      50\n",
       "Zeynep    40\n",
       "Mehmet    30\n",
       "dtype: int64"
      ]
     },
     "execution_count": 19,
     "metadata": {},
     "output_type": "execute_result"
    }
   ],
   "source": [
    "pd.Series(benimYaslarim, benimIsimlerim)"
   ]
  },
  {
   "cell_type": "code",
   "execution_count": 20,
   "id": "a620547f",
   "metadata": {},
   "outputs": [
    {
     "data": {
      "text/plain": [
       "Atil      50\n",
       "Zeynep    40\n",
       "Mehmet    30\n",
       "dtype: int64"
      ]
     },
     "execution_count": 20,
     "metadata": {},
     "output_type": "execute_result"
    }
   ],
   "source": [
    "pd.Series(data=benimYaslarim, index=benimIsimlerim)"
   ]
  },
  {
   "cell_type": "code",
   "execution_count": 21,
   "id": "9a708123",
   "metadata": {},
   "outputs": [],
   "source": [
    "numpyDizisi = np.array([50,40,30])"
   ]
  },
  {
   "cell_type": "code",
   "execution_count": 22,
   "id": "b38e1e97",
   "metadata": {},
   "outputs": [
    {
     "data": {
      "text/plain": [
       "array([50, 40, 30])"
      ]
     },
     "execution_count": 22,
     "metadata": {},
     "output_type": "execute_result"
    }
   ],
   "source": [
    "numpyDizisi"
   ]
  },
  {
   "cell_type": "code",
   "execution_count": 23,
   "id": "6e86f221",
   "metadata": {},
   "outputs": [
    {
     "data": {
      "text/plain": [
       "0    50\n",
       "1    40\n",
       "2    30\n",
       "dtype: int32"
      ]
     },
     "execution_count": 23,
     "metadata": {},
     "output_type": "execute_result"
    }
   ],
   "source": [
    "pd.Series(numpyDizisi)"
   ]
  },
  {
   "cell_type": "code",
   "execution_count": 24,
   "id": "835486b0",
   "metadata": {},
   "outputs": [
    {
     "data": {
      "text/plain": [
       "Atil      50\n",
       "Zeynep    40\n",
       "Mehmet    30\n",
       "dtype: int32"
      ]
     },
     "execution_count": 24,
     "metadata": {},
     "output_type": "execute_result"
    }
   ],
   "source": [
    "pd.Series(numpyDizisi,benimIsimlerim)"
   ]
  },
  {
   "cell_type": "code",
   "execution_count": 25,
   "id": "1b09c578",
   "metadata": {},
   "outputs": [
    {
     "data": {
      "text/plain": [
       "1    Baran\n",
       "2    Salih\n",
       "3    Orhan\n",
       "dtype: object"
      ]
     },
     "execution_count": 25,
     "metadata": {},
     "output_type": "execute_result"
    }
   ],
   "source": [
    "pd.Series([\"Baran\",\"Salih\",\"Orhan\"],[1,2,3])"
   ]
  },
  {
   "cell_type": "code",
   "execution_count": 26,
   "id": "dc272fad",
   "metadata": {},
   "outputs": [],
   "source": [
    " yarismaSonucu1 = pd.Series([10,5,1],[\"Baran\",\"Salih\",\"Orhan\"])"
   ]
  },
  {
   "cell_type": "code",
   "execution_count": 27,
   "id": "51b0c9d4",
   "metadata": {},
   "outputs": [
    {
     "data": {
      "text/plain": [
       "Baran    10\n",
       "Salih     5\n",
       "Orhan     1\n",
       "dtype: int64"
      ]
     },
     "execution_count": 27,
     "metadata": {},
     "output_type": "execute_result"
    }
   ],
   "source": [
    "yarismaSonucu1"
   ]
  },
  {
   "cell_type": "code",
   "execution_count": 28,
   "id": "3aaad2af",
   "metadata": {},
   "outputs": [],
   "source": [
    "yarismaSonucu2 = pd.Series([20,10,8],[\"Baran\",\"Salih\",\"Orhan\"])"
   ]
  },
  {
   "cell_type": "code",
   "execution_count": 29,
   "id": "fcf5db01",
   "metadata": {},
   "outputs": [
    {
     "data": {
      "text/plain": [
       "Baran    20\n",
       "Salih    10\n",
       "Orhan     8\n",
       "dtype: int64"
      ]
     },
     "execution_count": 29,
     "metadata": {},
     "output_type": "execute_result"
    }
   ],
   "source": [
    "yarismaSonucu2"
   ]
  },
  {
   "cell_type": "code",
   "execution_count": 30,
   "id": "5db9df03",
   "metadata": {},
   "outputs": [
    {
     "data": {
      "text/plain": [
       "10"
      ]
     },
     "execution_count": 30,
     "metadata": {},
     "output_type": "execute_result"
    }
   ],
   "source": [
    "yarismaSonucu2[\"Salih\"]"
   ]
  },
  {
   "cell_type": "code",
   "execution_count": 31,
   "id": "79663caa",
   "metadata": {},
   "outputs": [],
   "source": [
    "sonSonuc = yarismaSonucu1 + yarismaSonucu2"
   ]
  },
  {
   "cell_type": "code",
   "execution_count": 32,
   "id": "e9792b15",
   "metadata": {},
   "outputs": [
    {
     "data": {
      "text/plain": [
       "Baran    30\n",
       "Salih    15\n",
       "Orhan     9\n",
       "dtype: int64"
      ]
     },
     "execution_count": 32,
     "metadata": {},
     "output_type": "execute_result"
    }
   ],
   "source": [
    "sonSonuc"
   ]
  },
  {
   "cell_type": "code",
   "execution_count": 33,
   "id": "a28dc3d6",
   "metadata": {},
   "outputs": [],
   "source": [
    "farkliSeries = pd.Series([20,30,40,50],[\"a\",\"b\",\"c\",\"d\"])"
   ]
  },
  {
   "cell_type": "code",
   "execution_count": 34,
   "id": "3880daab",
   "metadata": {},
   "outputs": [],
   "source": [
    "farkliSeries2 = pd.Series([10,5,3,1],[\"a\",\"c\",\"f\",\"g\"])"
   ]
  },
  {
   "cell_type": "code",
   "execution_count": 35,
   "id": "a9521c90",
   "metadata": {},
   "outputs": [
    {
     "data": {
      "text/plain": [
       "a    30.0\n",
       "b     NaN\n",
       "c    45.0\n",
       "d     NaN\n",
       "f     NaN\n",
       "g     NaN\n",
       "dtype: float64"
      ]
     },
     "execution_count": 35,
     "metadata": {},
     "output_type": "execute_result"
    }
   ],
   "source": [
    "farkliSeries + farkliSeries2"
   ]
  },
  {
   "cell_type": "markdown",
   "id": "b3a67d2e",
   "metadata": {},
   "source": [
    "Dataframe"
   ]
  },
  {
   "cell_type": "code",
   "execution_count": 36,
   "id": "7aaf22bf",
   "metadata": {},
   "outputs": [],
   "source": [
    "data = np.random.randn(4,3)"
   ]
  },
  {
   "cell_type": "code",
   "execution_count": 37,
   "id": "ce66cf39",
   "metadata": {},
   "outputs": [
    {
     "data": {
      "text/plain": [
       "array([[ 1.53329131, -1.57843148, -1.50002561],\n",
       "       [ 0.43008988,  0.29264649,  1.80119604],\n",
       "       [ 0.76512951, -1.00613594, -1.1684717 ],\n",
       "       [-0.8369266 ,  0.16733368, -0.27279353]])"
      ]
     },
     "execution_count": 37,
     "metadata": {},
     "output_type": "execute_result"
    }
   ],
   "source": [
    "data"
   ]
  },
  {
   "cell_type": "code",
   "execution_count": 38,
   "id": "cbef6918",
   "metadata": {},
   "outputs": [],
   "source": [
    "dataFrame = pd.DataFrame(data)"
   ]
  },
  {
   "cell_type": "code",
   "execution_count": 39,
   "id": "2d266e34",
   "metadata": {},
   "outputs": [
    {
     "data": {
      "text/html": [
       "<div>\n",
       "<style scoped>\n",
       "    .dataframe tbody tr th:only-of-type {\n",
       "        vertical-align: middle;\n",
       "    }\n",
       "\n",
       "    .dataframe tbody tr th {\n",
       "        vertical-align: top;\n",
       "    }\n",
       "\n",
       "    .dataframe thead th {\n",
       "        text-align: right;\n",
       "    }\n",
       "</style>\n",
       "<table border=\"1\" class=\"dataframe\">\n",
       "  <thead>\n",
       "    <tr style=\"text-align: right;\">\n",
       "      <th></th>\n",
       "      <th>0</th>\n",
       "      <th>1</th>\n",
       "      <th>2</th>\n",
       "    </tr>\n",
       "  </thead>\n",
       "  <tbody>\n",
       "    <tr>\n",
       "      <th>0</th>\n",
       "      <td>1.533291</td>\n",
       "      <td>-1.578431</td>\n",
       "      <td>-1.500026</td>\n",
       "    </tr>\n",
       "    <tr>\n",
       "      <th>1</th>\n",
       "      <td>0.430090</td>\n",
       "      <td>0.292646</td>\n",
       "      <td>1.801196</td>\n",
       "    </tr>\n",
       "    <tr>\n",
       "      <th>2</th>\n",
       "      <td>0.765130</td>\n",
       "      <td>-1.006136</td>\n",
       "      <td>-1.168472</td>\n",
       "    </tr>\n",
       "    <tr>\n",
       "      <th>3</th>\n",
       "      <td>-0.836927</td>\n",
       "      <td>0.167334</td>\n",
       "      <td>-0.272794</td>\n",
       "    </tr>\n",
       "  </tbody>\n",
       "</table>\n",
       "</div>"
      ],
      "text/plain": [
       "          0         1         2\n",
       "0  1.533291 -1.578431 -1.500026\n",
       "1  0.430090  0.292646  1.801196\n",
       "2  0.765130 -1.006136 -1.168472\n",
       "3 -0.836927  0.167334 -0.272794"
      ]
     },
     "execution_count": 39,
     "metadata": {},
     "output_type": "execute_result"
    }
   ],
   "source": [
    "dataFrame"
   ]
  },
  {
   "cell_type": "code",
   "execution_count": 40,
   "id": "0cf40fae",
   "metadata": {},
   "outputs": [
    {
     "data": {
      "text/plain": [
       "0    1.533291\n",
       "1    0.430090\n",
       "2    0.765130\n",
       "3   -0.836927\n",
       "Name: 0, dtype: float64"
      ]
     },
     "execution_count": 40,
     "metadata": {},
     "output_type": "execute_result"
    }
   ],
   "source": [
    "dataFrame[0]"
   ]
  },
  {
   "cell_type": "code",
   "execution_count": 41,
   "id": "3183777e",
   "metadata": {},
   "outputs": [
    {
     "data": {
      "text/plain": [
       "pandas.core.frame.DataFrame"
      ]
     },
     "execution_count": 41,
     "metadata": {},
     "output_type": "execute_result"
    }
   ],
   "source": [
    "type(dataFrame)"
   ]
  },
  {
   "cell_type": "code",
   "execution_count": 42,
   "id": "c34ded68",
   "metadata": {},
   "outputs": [],
   "source": [
    "yeniDataFrame = pd.DataFrame(data,index=[\"Baran\",\"Salih\",\"Orhan\",\"Berkay\"],columns = [\"Maas\",\"Yas\",\"Calisma Saati\"])"
   ]
  },
  {
   "cell_type": "code",
   "execution_count": 43,
   "id": "4d1cc590",
   "metadata": {},
   "outputs": [
    {
     "data": {
      "text/html": [
       "<div>\n",
       "<style scoped>\n",
       "    .dataframe tbody tr th:only-of-type {\n",
       "        vertical-align: middle;\n",
       "    }\n",
       "\n",
       "    .dataframe tbody tr th {\n",
       "        vertical-align: top;\n",
       "    }\n",
       "\n",
       "    .dataframe thead th {\n",
       "        text-align: right;\n",
       "    }\n",
       "</style>\n",
       "<table border=\"1\" class=\"dataframe\">\n",
       "  <thead>\n",
       "    <tr style=\"text-align: right;\">\n",
       "      <th></th>\n",
       "      <th>Maas</th>\n",
       "      <th>Yas</th>\n",
       "      <th>Calisma Saati</th>\n",
       "    </tr>\n",
       "  </thead>\n",
       "  <tbody>\n",
       "    <tr>\n",
       "      <th>Baran</th>\n",
       "      <td>1.533291</td>\n",
       "      <td>-1.578431</td>\n",
       "      <td>-1.500026</td>\n",
       "    </tr>\n",
       "    <tr>\n",
       "      <th>Salih</th>\n",
       "      <td>0.430090</td>\n",
       "      <td>0.292646</td>\n",
       "      <td>1.801196</td>\n",
       "    </tr>\n",
       "    <tr>\n",
       "      <th>Orhan</th>\n",
       "      <td>0.765130</td>\n",
       "      <td>-1.006136</td>\n",
       "      <td>-1.168472</td>\n",
       "    </tr>\n",
       "    <tr>\n",
       "      <th>Berkay</th>\n",
       "      <td>-0.836927</td>\n",
       "      <td>0.167334</td>\n",
       "      <td>-0.272794</td>\n",
       "    </tr>\n",
       "  </tbody>\n",
       "</table>\n",
       "</div>"
      ],
      "text/plain": [
       "            Maas       Yas  Calisma Saati\n",
       "Baran   1.533291 -1.578431      -1.500026\n",
       "Salih   0.430090  0.292646       1.801196\n",
       "Orhan   0.765130 -1.006136      -1.168472\n",
       "Berkay -0.836927  0.167334      -0.272794"
      ]
     },
     "execution_count": 43,
     "metadata": {},
     "output_type": "execute_result"
    }
   ],
   "source": [
    "yeniDataFrame"
   ]
  },
  {
   "cell_type": "code",
   "execution_count": 44,
   "id": "2fce86e6",
   "metadata": {},
   "outputs": [
    {
     "data": {
      "text/plain": [
       "Baran    -1.578431\n",
       "Salih     0.292646\n",
       "Orhan    -1.006136\n",
       "Berkay    0.167334\n",
       "Name: Yas, dtype: float64"
      ]
     },
     "execution_count": 44,
     "metadata": {},
     "output_type": "execute_result"
    }
   ],
   "source": [
    "yeniDataFrame[\"Yas\"]"
   ]
  },
  {
   "cell_type": "code",
   "execution_count": 45,
   "id": "7c9a19cb",
   "metadata": {},
   "outputs": [
    {
     "data": {
      "text/html": [
       "<div>\n",
       "<style scoped>\n",
       "    .dataframe tbody tr th:only-of-type {\n",
       "        vertical-align: middle;\n",
       "    }\n",
       "\n",
       "    .dataframe tbody tr th {\n",
       "        vertical-align: top;\n",
       "    }\n",
       "\n",
       "    .dataframe thead th {\n",
       "        text-align: right;\n",
       "    }\n",
       "</style>\n",
       "<table border=\"1\" class=\"dataframe\">\n",
       "  <thead>\n",
       "    <tr style=\"text-align: right;\">\n",
       "      <th></th>\n",
       "      <th>Maas</th>\n",
       "      <th>Calisma Saati</th>\n",
       "    </tr>\n",
       "  </thead>\n",
       "  <tbody>\n",
       "    <tr>\n",
       "      <th>Baran</th>\n",
       "      <td>1.533291</td>\n",
       "      <td>-1.500026</td>\n",
       "    </tr>\n",
       "    <tr>\n",
       "      <th>Salih</th>\n",
       "      <td>0.430090</td>\n",
       "      <td>1.801196</td>\n",
       "    </tr>\n",
       "    <tr>\n",
       "      <th>Orhan</th>\n",
       "      <td>0.765130</td>\n",
       "      <td>-1.168472</td>\n",
       "    </tr>\n",
       "    <tr>\n",
       "      <th>Berkay</th>\n",
       "      <td>-0.836927</td>\n",
       "      <td>-0.272794</td>\n",
       "    </tr>\n",
       "  </tbody>\n",
       "</table>\n",
       "</div>"
      ],
      "text/plain": [
       "            Maas  Calisma Saati\n",
       "Baran   1.533291      -1.500026\n",
       "Salih   0.430090       1.801196\n",
       "Orhan   0.765130      -1.168472\n",
       "Berkay -0.836927      -0.272794"
      ]
     },
     "execution_count": 45,
     "metadata": {},
     "output_type": "execute_result"
    }
   ],
   "source": [
    "yeniDataFrame[[\"Maas\",\"Calisma Saati\"]]"
   ]
  },
  {
   "cell_type": "code",
   "execution_count": 46,
   "id": "475c81f9",
   "metadata": {},
   "outputs": [
    {
     "data": {
      "text/plain": [
       "Maas             1.533291\n",
       "Yas             -1.578431\n",
       "Calisma Saati   -1.500026\n",
       "Name: Baran, dtype: float64"
      ]
     },
     "execution_count": 46,
     "metadata": {},
     "output_type": "execute_result"
    }
   ],
   "source": [
    "yeniDataFrame.loc[\"Baran\"]"
   ]
  },
  {
   "cell_type": "code",
   "execution_count": 47,
   "id": "5c027534",
   "metadata": {},
   "outputs": [
    {
     "data": {
      "text/plain": [
       "Maas             0.430090\n",
       "Yas              0.292646\n",
       "Calisma Saati    1.801196\n",
       "Name: Salih, dtype: float64"
      ]
     },
     "execution_count": 47,
     "metadata": {},
     "output_type": "execute_result"
    }
   ],
   "source": [
    "yeniDataFrame.iloc[1]"
   ]
  },
  {
   "cell_type": "code",
   "execution_count": 48,
   "id": "64220b89",
   "metadata": {},
   "outputs": [
    {
     "data": {
      "text/html": [
       "<div>\n",
       "<style scoped>\n",
       "    .dataframe tbody tr th:only-of-type {\n",
       "        vertical-align: middle;\n",
       "    }\n",
       "\n",
       "    .dataframe tbody tr th {\n",
       "        vertical-align: top;\n",
       "    }\n",
       "\n",
       "    .dataframe thead th {\n",
       "        text-align: right;\n",
       "    }\n",
       "</style>\n",
       "<table border=\"1\" class=\"dataframe\">\n",
       "  <thead>\n",
       "    <tr style=\"text-align: right;\">\n",
       "      <th></th>\n",
       "      <th>Maas</th>\n",
       "      <th>Yas</th>\n",
       "      <th>Calisma Saati</th>\n",
       "    </tr>\n",
       "  </thead>\n",
       "  <tbody>\n",
       "    <tr>\n",
       "      <th>Baran</th>\n",
       "      <td>1.533291</td>\n",
       "      <td>-1.578431</td>\n",
       "      <td>-1.500026</td>\n",
       "    </tr>\n",
       "    <tr>\n",
       "      <th>Salih</th>\n",
       "      <td>0.430090</td>\n",
       "      <td>0.292646</td>\n",
       "      <td>1.801196</td>\n",
       "    </tr>\n",
       "    <tr>\n",
       "      <th>Orhan</th>\n",
       "      <td>0.765130</td>\n",
       "      <td>-1.006136</td>\n",
       "      <td>-1.168472</td>\n",
       "    </tr>\n",
       "    <tr>\n",
       "      <th>Berkay</th>\n",
       "      <td>-0.836927</td>\n",
       "      <td>0.167334</td>\n",
       "      <td>-0.272794</td>\n",
       "    </tr>\n",
       "  </tbody>\n",
       "</table>\n",
       "</div>"
      ],
      "text/plain": [
       "            Maas       Yas  Calisma Saati\n",
       "Baran   1.533291 -1.578431      -1.500026\n",
       "Salih   0.430090  0.292646       1.801196\n",
       "Orhan   0.765130 -1.006136      -1.168472\n",
       "Berkay -0.836927  0.167334      -0.272794"
      ]
     },
     "execution_count": 48,
     "metadata": {},
     "output_type": "execute_result"
    }
   ],
   "source": [
    "yeniDataFrame"
   ]
  },
  {
   "cell_type": "code",
   "execution_count": 49,
   "id": "bc358ee1",
   "metadata": {},
   "outputs": [
    {
     "data": {
      "text/plain": [
       "Baran     1.533291\n",
       "Salih     0.430090\n",
       "Orhan     0.765130\n",
       "Berkay   -0.836927\n",
       "Name: Maas, dtype: float64"
      ]
     },
     "execution_count": 49,
     "metadata": {},
     "output_type": "execute_result"
    }
   ],
   "source": [
    "yeniDataFrame[\"Maas\"]"
   ]
  },
  {
   "cell_type": "code",
   "execution_count": 50,
   "id": "880075fb",
   "metadata": {},
   "outputs": [],
   "source": [
    "yeniDataFrame[\"Emeklilik Yasi\"] = yeniDataFrame[\"Yas\"] + yeniDataFrame[\"Yas\"]"
   ]
  },
  {
   "cell_type": "code",
   "execution_count": 51,
   "id": "72a57182",
   "metadata": {},
   "outputs": [
    {
     "data": {
      "text/html": [
       "<div>\n",
       "<style scoped>\n",
       "    .dataframe tbody tr th:only-of-type {\n",
       "        vertical-align: middle;\n",
       "    }\n",
       "\n",
       "    .dataframe tbody tr th {\n",
       "        vertical-align: top;\n",
       "    }\n",
       "\n",
       "    .dataframe thead th {\n",
       "        text-align: right;\n",
       "    }\n",
       "</style>\n",
       "<table border=\"1\" class=\"dataframe\">\n",
       "  <thead>\n",
       "    <tr style=\"text-align: right;\">\n",
       "      <th></th>\n",
       "      <th>Maas</th>\n",
       "      <th>Yas</th>\n",
       "      <th>Calisma Saati</th>\n",
       "      <th>Emeklilik Yasi</th>\n",
       "    </tr>\n",
       "  </thead>\n",
       "  <tbody>\n",
       "    <tr>\n",
       "      <th>Baran</th>\n",
       "      <td>1.533291</td>\n",
       "      <td>-1.578431</td>\n",
       "      <td>-1.500026</td>\n",
       "      <td>-3.156863</td>\n",
       "    </tr>\n",
       "    <tr>\n",
       "      <th>Salih</th>\n",
       "      <td>0.430090</td>\n",
       "      <td>0.292646</td>\n",
       "      <td>1.801196</td>\n",
       "      <td>0.585293</td>\n",
       "    </tr>\n",
       "    <tr>\n",
       "      <th>Orhan</th>\n",
       "      <td>0.765130</td>\n",
       "      <td>-1.006136</td>\n",
       "      <td>-1.168472</td>\n",
       "      <td>-2.012272</td>\n",
       "    </tr>\n",
       "    <tr>\n",
       "      <th>Berkay</th>\n",
       "      <td>-0.836927</td>\n",
       "      <td>0.167334</td>\n",
       "      <td>-0.272794</td>\n",
       "      <td>0.334667</td>\n",
       "    </tr>\n",
       "  </tbody>\n",
       "</table>\n",
       "</div>"
      ],
      "text/plain": [
       "            Maas       Yas  Calisma Saati  Emeklilik Yasi\n",
       "Baran   1.533291 -1.578431      -1.500026       -3.156863\n",
       "Salih   0.430090  0.292646       1.801196        0.585293\n",
       "Orhan   0.765130 -1.006136      -1.168472       -2.012272\n",
       "Berkay -0.836927  0.167334      -0.272794        0.334667"
      ]
     },
     "execution_count": 51,
     "metadata": {},
     "output_type": "execute_result"
    }
   ],
   "source": [
    "yeniDataFrame"
   ]
  },
  {
   "cell_type": "code",
   "execution_count": 52,
   "id": "5a528a16",
   "metadata": {},
   "outputs": [
    {
     "data": {
      "text/html": [
       "<div>\n",
       "<style scoped>\n",
       "    .dataframe tbody tr th:only-of-type {\n",
       "        vertical-align: middle;\n",
       "    }\n",
       "\n",
       "    .dataframe tbody tr th {\n",
       "        vertical-align: top;\n",
       "    }\n",
       "\n",
       "    .dataframe thead th {\n",
       "        text-align: right;\n",
       "    }\n",
       "</style>\n",
       "<table border=\"1\" class=\"dataframe\">\n",
       "  <thead>\n",
       "    <tr style=\"text-align: right;\">\n",
       "      <th></th>\n",
       "      <th>Maas</th>\n",
       "      <th>Yas</th>\n",
       "      <th>Calisma Saati</th>\n",
       "    </tr>\n",
       "  </thead>\n",
       "  <tbody>\n",
       "    <tr>\n",
       "      <th>Baran</th>\n",
       "      <td>1.533291</td>\n",
       "      <td>-1.578431</td>\n",
       "      <td>-1.500026</td>\n",
       "    </tr>\n",
       "    <tr>\n",
       "      <th>Salih</th>\n",
       "      <td>0.430090</td>\n",
       "      <td>0.292646</td>\n",
       "      <td>1.801196</td>\n",
       "    </tr>\n",
       "    <tr>\n",
       "      <th>Orhan</th>\n",
       "      <td>0.765130</td>\n",
       "      <td>-1.006136</td>\n",
       "      <td>-1.168472</td>\n",
       "    </tr>\n",
       "    <tr>\n",
       "      <th>Berkay</th>\n",
       "      <td>-0.836927</td>\n",
       "      <td>0.167334</td>\n",
       "      <td>-0.272794</td>\n",
       "    </tr>\n",
       "  </tbody>\n",
       "</table>\n",
       "</div>"
      ],
      "text/plain": [
       "            Maas       Yas  Calisma Saati\n",
       "Baran   1.533291 -1.578431      -1.500026\n",
       "Salih   0.430090  0.292646       1.801196\n",
       "Orhan   0.765130 -1.006136      -1.168472\n",
       "Berkay -0.836927  0.167334      -0.272794"
      ]
     },
     "execution_count": 52,
     "metadata": {},
     "output_type": "execute_result"
    }
   ],
   "source": [
    "yeniDataFrame.drop(\"Emeklilik Yasi\",axis = 1)"
   ]
  },
  {
   "cell_type": "code",
   "execution_count": 53,
   "id": "36f7ebaa",
   "metadata": {},
   "outputs": [
    {
     "data": {
      "text/html": [
       "<div>\n",
       "<style scoped>\n",
       "    .dataframe tbody tr th:only-of-type {\n",
       "        vertical-align: middle;\n",
       "    }\n",
       "\n",
       "    .dataframe tbody tr th {\n",
       "        vertical-align: top;\n",
       "    }\n",
       "\n",
       "    .dataframe thead th {\n",
       "        text-align: right;\n",
       "    }\n",
       "</style>\n",
       "<table border=\"1\" class=\"dataframe\">\n",
       "  <thead>\n",
       "    <tr style=\"text-align: right;\">\n",
       "      <th></th>\n",
       "      <th>Maas</th>\n",
       "      <th>Yas</th>\n",
       "      <th>Calisma Saati</th>\n",
       "      <th>Emeklilik Yasi</th>\n",
       "    </tr>\n",
       "  </thead>\n",
       "  <tbody>\n",
       "    <tr>\n",
       "      <th>Baran</th>\n",
       "      <td>1.533291</td>\n",
       "      <td>-1.578431</td>\n",
       "      <td>-1.500026</td>\n",
       "      <td>-3.156863</td>\n",
       "    </tr>\n",
       "    <tr>\n",
       "      <th>Salih</th>\n",
       "      <td>0.430090</td>\n",
       "      <td>0.292646</td>\n",
       "      <td>1.801196</td>\n",
       "      <td>0.585293</td>\n",
       "    </tr>\n",
       "    <tr>\n",
       "      <th>Orhan</th>\n",
       "      <td>0.765130</td>\n",
       "      <td>-1.006136</td>\n",
       "      <td>-1.168472</td>\n",
       "      <td>-2.012272</td>\n",
       "    </tr>\n",
       "  </tbody>\n",
       "</table>\n",
       "</div>"
      ],
      "text/plain": [
       "           Maas       Yas  Calisma Saati  Emeklilik Yasi\n",
       "Baran  1.533291 -1.578431      -1.500026       -3.156863\n",
       "Salih  0.430090  0.292646       1.801196        0.585293\n",
       "Orhan  0.765130 -1.006136      -1.168472       -2.012272"
      ]
     },
     "execution_count": 53,
     "metadata": {},
     "output_type": "execute_result"
    }
   ],
   "source": [
    "yeniDataFrame.drop(\"Berkay\")"
   ]
  },
  {
   "cell_type": "code",
   "execution_count": 54,
   "id": "d884f8d9",
   "metadata": {},
   "outputs": [
    {
     "data": {
      "text/html": [
       "<div>\n",
       "<style scoped>\n",
       "    .dataframe tbody tr th:only-of-type {\n",
       "        vertical-align: middle;\n",
       "    }\n",
       "\n",
       "    .dataframe tbody tr th {\n",
       "        vertical-align: top;\n",
       "    }\n",
       "\n",
       "    .dataframe thead th {\n",
       "        text-align: right;\n",
       "    }\n",
       "</style>\n",
       "<table border=\"1\" class=\"dataframe\">\n",
       "  <thead>\n",
       "    <tr style=\"text-align: right;\">\n",
       "      <th></th>\n",
       "      <th>Maas</th>\n",
       "      <th>Yas</th>\n",
       "      <th>Calisma Saati</th>\n",
       "      <th>Emeklilik Yasi</th>\n",
       "    </tr>\n",
       "  </thead>\n",
       "  <tbody>\n",
       "    <tr>\n",
       "      <th>Baran</th>\n",
       "      <td>1.533291</td>\n",
       "      <td>-1.578431</td>\n",
       "      <td>-1.500026</td>\n",
       "      <td>-3.156863</td>\n",
       "    </tr>\n",
       "    <tr>\n",
       "      <th>Salih</th>\n",
       "      <td>0.430090</td>\n",
       "      <td>0.292646</td>\n",
       "      <td>1.801196</td>\n",
       "      <td>0.585293</td>\n",
       "    </tr>\n",
       "    <tr>\n",
       "      <th>Orhan</th>\n",
       "      <td>0.765130</td>\n",
       "      <td>-1.006136</td>\n",
       "      <td>-1.168472</td>\n",
       "      <td>-2.012272</td>\n",
       "    </tr>\n",
       "    <tr>\n",
       "      <th>Berkay</th>\n",
       "      <td>-0.836927</td>\n",
       "      <td>0.167334</td>\n",
       "      <td>-0.272794</td>\n",
       "      <td>0.334667</td>\n",
       "    </tr>\n",
       "  </tbody>\n",
       "</table>\n",
       "</div>"
      ],
      "text/plain": [
       "            Maas       Yas  Calisma Saati  Emeklilik Yasi\n",
       "Baran   1.533291 -1.578431      -1.500026       -3.156863\n",
       "Salih   0.430090  0.292646       1.801196        0.585293\n",
       "Orhan   0.765130 -1.006136      -1.168472       -2.012272\n",
       "Berkay -0.836927  0.167334      -0.272794        0.334667"
      ]
     },
     "execution_count": 54,
     "metadata": {},
     "output_type": "execute_result"
    }
   ],
   "source": [
    "yeniDataFrame"
   ]
  },
  {
   "cell_type": "code",
   "execution_count": 55,
   "id": "086b5521",
   "metadata": {},
   "outputs": [],
   "source": [
    "yeniDataFrame.drop(\"Emeklilik Yasi\", axis = 1, inplace=True)"
   ]
  },
  {
   "cell_type": "code",
   "execution_count": 56,
   "id": "79723e46",
   "metadata": {},
   "outputs": [
    {
     "data": {
      "text/html": [
       "<div>\n",
       "<style scoped>\n",
       "    .dataframe tbody tr th:only-of-type {\n",
       "        vertical-align: middle;\n",
       "    }\n",
       "\n",
       "    .dataframe tbody tr th {\n",
       "        vertical-align: top;\n",
       "    }\n",
       "\n",
       "    .dataframe thead th {\n",
       "        text-align: right;\n",
       "    }\n",
       "</style>\n",
       "<table border=\"1\" class=\"dataframe\">\n",
       "  <thead>\n",
       "    <tr style=\"text-align: right;\">\n",
       "      <th></th>\n",
       "      <th>Maas</th>\n",
       "      <th>Yas</th>\n",
       "      <th>Calisma Saati</th>\n",
       "    </tr>\n",
       "  </thead>\n",
       "  <tbody>\n",
       "    <tr>\n",
       "      <th>Baran</th>\n",
       "      <td>1.533291</td>\n",
       "      <td>-1.578431</td>\n",
       "      <td>-1.500026</td>\n",
       "    </tr>\n",
       "    <tr>\n",
       "      <th>Salih</th>\n",
       "      <td>0.430090</td>\n",
       "      <td>0.292646</td>\n",
       "      <td>1.801196</td>\n",
       "    </tr>\n",
       "    <tr>\n",
       "      <th>Orhan</th>\n",
       "      <td>0.765130</td>\n",
       "      <td>-1.006136</td>\n",
       "      <td>-1.168472</td>\n",
       "    </tr>\n",
       "    <tr>\n",
       "      <th>Berkay</th>\n",
       "      <td>-0.836927</td>\n",
       "      <td>0.167334</td>\n",
       "      <td>-0.272794</td>\n",
       "    </tr>\n",
       "  </tbody>\n",
       "</table>\n",
       "</div>"
      ],
      "text/plain": [
       "            Maas       Yas  Calisma Saati\n",
       "Baran   1.533291 -1.578431      -1.500026\n",
       "Salih   0.430090  0.292646       1.801196\n",
       "Orhan   0.765130 -1.006136      -1.168472\n",
       "Berkay -0.836927  0.167334      -0.272794"
      ]
     },
     "execution_count": 56,
     "metadata": {},
     "output_type": "execute_result"
    }
   ],
   "source": [
    "yeniDataFrame"
   ]
  },
  {
   "cell_type": "code",
   "execution_count": 57,
   "id": "506be376",
   "metadata": {},
   "outputs": [
    {
     "data": {
      "text/plain": [
       "-1.5784314795048735"
      ]
     },
     "execution_count": 57,
     "metadata": {},
     "output_type": "execute_result"
    }
   ],
   "source": [
    "yeniDataFrame.loc[\"Baran\"][\"Yas\"]"
   ]
  },
  {
   "cell_type": "code",
   "execution_count": 58,
   "id": "5ef210eb",
   "metadata": {},
   "outputs": [
    {
     "data": {
      "text/plain": [
       "-1.5784314795048735"
      ]
     },
     "execution_count": 58,
     "metadata": {},
     "output_type": "execute_result"
    }
   ],
   "source": [
    "yeniDataFrame.loc[\"Baran\",\"Yas\"]"
   ]
  },
  {
   "cell_type": "code",
   "execution_count": 59,
   "id": "07dacb12",
   "metadata": {},
   "outputs": [
    {
     "data": {
      "text/html": [
       "<div>\n",
       "<style scoped>\n",
       "    .dataframe tbody tr th:only-of-type {\n",
       "        vertical-align: middle;\n",
       "    }\n",
       "\n",
       "    .dataframe tbody tr th {\n",
       "        vertical-align: top;\n",
       "    }\n",
       "\n",
       "    .dataframe thead th {\n",
       "        text-align: right;\n",
       "    }\n",
       "</style>\n",
       "<table border=\"1\" class=\"dataframe\">\n",
       "  <thead>\n",
       "    <tr style=\"text-align: right;\">\n",
       "      <th></th>\n",
       "      <th>Maas</th>\n",
       "      <th>Yas</th>\n",
       "      <th>Calisma Saati</th>\n",
       "    </tr>\n",
       "  </thead>\n",
       "  <tbody>\n",
       "    <tr>\n",
       "      <th>Baran</th>\n",
       "      <td>1.533291</td>\n",
       "      <td>-1.578431</td>\n",
       "      <td>-1.500026</td>\n",
       "    </tr>\n",
       "    <tr>\n",
       "      <th>Salih</th>\n",
       "      <td>0.430090</td>\n",
       "      <td>0.292646</td>\n",
       "      <td>1.801196</td>\n",
       "    </tr>\n",
       "    <tr>\n",
       "      <th>Orhan</th>\n",
       "      <td>0.765130</td>\n",
       "      <td>-1.006136</td>\n",
       "      <td>-1.168472</td>\n",
       "    </tr>\n",
       "    <tr>\n",
       "      <th>Berkay</th>\n",
       "      <td>-0.836927</td>\n",
       "      <td>0.167334</td>\n",
       "      <td>-0.272794</td>\n",
       "    </tr>\n",
       "  </tbody>\n",
       "</table>\n",
       "</div>"
      ],
      "text/plain": [
       "            Maas       Yas  Calisma Saati\n",
       "Baran   1.533291 -1.578431      -1.500026\n",
       "Salih   0.430090  0.292646       1.801196\n",
       "Orhan   0.765130 -1.006136      -1.168472\n",
       "Berkay -0.836927  0.167334      -0.272794"
      ]
     },
     "execution_count": 59,
     "metadata": {},
     "output_type": "execute_result"
    }
   ],
   "source": [
    "yeniDataFrame"
   ]
  },
  {
   "cell_type": "code",
   "execution_count": 60,
   "id": "d27fe7d8",
   "metadata": {},
   "outputs": [],
   "source": [
    "boolean = yeniDataFrame < 0"
   ]
  },
  {
   "cell_type": "code",
   "execution_count": 61,
   "id": "87ea9bbf",
   "metadata": {},
   "outputs": [
    {
     "data": {
      "text/html": [
       "<div>\n",
       "<style scoped>\n",
       "    .dataframe tbody tr th:only-of-type {\n",
       "        vertical-align: middle;\n",
       "    }\n",
       "\n",
       "    .dataframe tbody tr th {\n",
       "        vertical-align: top;\n",
       "    }\n",
       "\n",
       "    .dataframe thead th {\n",
       "        text-align: right;\n",
       "    }\n",
       "</style>\n",
       "<table border=\"1\" class=\"dataframe\">\n",
       "  <thead>\n",
       "    <tr style=\"text-align: right;\">\n",
       "      <th></th>\n",
       "      <th>Maas</th>\n",
       "      <th>Yas</th>\n",
       "      <th>Calisma Saati</th>\n",
       "    </tr>\n",
       "  </thead>\n",
       "  <tbody>\n",
       "    <tr>\n",
       "      <th>Baran</th>\n",
       "      <td>False</td>\n",
       "      <td>True</td>\n",
       "      <td>True</td>\n",
       "    </tr>\n",
       "    <tr>\n",
       "      <th>Salih</th>\n",
       "      <td>False</td>\n",
       "      <td>False</td>\n",
       "      <td>False</td>\n",
       "    </tr>\n",
       "    <tr>\n",
       "      <th>Orhan</th>\n",
       "      <td>False</td>\n",
       "      <td>True</td>\n",
       "      <td>True</td>\n",
       "    </tr>\n",
       "    <tr>\n",
       "      <th>Berkay</th>\n",
       "      <td>True</td>\n",
       "      <td>False</td>\n",
       "      <td>True</td>\n",
       "    </tr>\n",
       "  </tbody>\n",
       "</table>\n",
       "</div>"
      ],
      "text/plain": [
       "         Maas    Yas  Calisma Saati\n",
       "Baran   False   True           True\n",
       "Salih   False  False          False\n",
       "Orhan   False   True           True\n",
       "Berkay   True  False           True"
      ]
     },
     "execution_count": 61,
     "metadata": {},
     "output_type": "execute_result"
    }
   ],
   "source": [
    "boolean"
   ]
  },
  {
   "cell_type": "code",
   "execution_count": 62,
   "id": "dde33467",
   "metadata": {},
   "outputs": [
    {
     "data": {
      "text/html": [
       "<div>\n",
       "<style scoped>\n",
       "    .dataframe tbody tr th:only-of-type {\n",
       "        vertical-align: middle;\n",
       "    }\n",
       "\n",
       "    .dataframe tbody tr th {\n",
       "        vertical-align: top;\n",
       "    }\n",
       "\n",
       "    .dataframe thead th {\n",
       "        text-align: right;\n",
       "    }\n",
       "</style>\n",
       "<table border=\"1\" class=\"dataframe\">\n",
       "  <thead>\n",
       "    <tr style=\"text-align: right;\">\n",
       "      <th></th>\n",
       "      <th>Maas</th>\n",
       "      <th>Yas</th>\n",
       "      <th>Calisma Saati</th>\n",
       "    </tr>\n",
       "  </thead>\n",
       "  <tbody>\n",
       "    <tr>\n",
       "      <th>Baran</th>\n",
       "      <td>NaN</td>\n",
       "      <td>-1.578431</td>\n",
       "      <td>-1.500026</td>\n",
       "    </tr>\n",
       "    <tr>\n",
       "      <th>Salih</th>\n",
       "      <td>NaN</td>\n",
       "      <td>NaN</td>\n",
       "      <td>NaN</td>\n",
       "    </tr>\n",
       "    <tr>\n",
       "      <th>Orhan</th>\n",
       "      <td>NaN</td>\n",
       "      <td>-1.006136</td>\n",
       "      <td>-1.168472</td>\n",
       "    </tr>\n",
       "    <tr>\n",
       "      <th>Berkay</th>\n",
       "      <td>-0.836927</td>\n",
       "      <td>NaN</td>\n",
       "      <td>-0.272794</td>\n",
       "    </tr>\n",
       "  </tbody>\n",
       "</table>\n",
       "</div>"
      ],
      "text/plain": [
       "            Maas       Yas  Calisma Saati\n",
       "Baran        NaN -1.578431      -1.500026\n",
       "Salih        NaN       NaN            NaN\n",
       "Orhan        NaN -1.006136      -1.168472\n",
       "Berkay -0.836927       NaN      -0.272794"
      ]
     },
     "execution_count": 62,
     "metadata": {},
     "output_type": "execute_result"
    }
   ],
   "source": [
    "yeniDataFrame[boolean]"
   ]
  },
  {
   "cell_type": "code",
   "execution_count": 63,
   "id": "fb9ac6f5",
   "metadata": {},
   "outputs": [
    {
     "data": {
      "text/html": [
       "<div>\n",
       "<style scoped>\n",
       "    .dataframe tbody tr th:only-of-type {\n",
       "        vertical-align: middle;\n",
       "    }\n",
       "\n",
       "    .dataframe tbody tr th {\n",
       "        vertical-align: top;\n",
       "    }\n",
       "\n",
       "    .dataframe thead th {\n",
       "        text-align: right;\n",
       "    }\n",
       "</style>\n",
       "<table border=\"1\" class=\"dataframe\">\n",
       "  <thead>\n",
       "    <tr style=\"text-align: right;\">\n",
       "      <th></th>\n",
       "      <th>Maas</th>\n",
       "      <th>Yas</th>\n",
       "      <th>Calisma Saati</th>\n",
       "    </tr>\n",
       "  </thead>\n",
       "  <tbody>\n",
       "    <tr>\n",
       "      <th>Baran</th>\n",
       "      <td>NaN</td>\n",
       "      <td>-1.578431</td>\n",
       "      <td>-1.500026</td>\n",
       "    </tr>\n",
       "    <tr>\n",
       "      <th>Salih</th>\n",
       "      <td>NaN</td>\n",
       "      <td>NaN</td>\n",
       "      <td>NaN</td>\n",
       "    </tr>\n",
       "    <tr>\n",
       "      <th>Orhan</th>\n",
       "      <td>NaN</td>\n",
       "      <td>-1.006136</td>\n",
       "      <td>-1.168472</td>\n",
       "    </tr>\n",
       "    <tr>\n",
       "      <th>Berkay</th>\n",
       "      <td>-0.836927</td>\n",
       "      <td>NaN</td>\n",
       "      <td>-0.272794</td>\n",
       "    </tr>\n",
       "  </tbody>\n",
       "</table>\n",
       "</div>"
      ],
      "text/plain": [
       "            Maas       Yas  Calisma Saati\n",
       "Baran        NaN -1.578431      -1.500026\n",
       "Salih        NaN       NaN            NaN\n",
       "Orhan        NaN -1.006136      -1.168472\n",
       "Berkay -0.836927       NaN      -0.272794"
      ]
     },
     "execution_count": 63,
     "metadata": {},
     "output_type": "execute_result"
    }
   ],
   "source": [
    "yeniDataFrame[yeniDataFrame < 0]"
   ]
  },
  {
   "cell_type": "code",
   "execution_count": 64,
   "id": "acc52602",
   "metadata": {},
   "outputs": [
    {
     "data": {
      "text/plain": [
       "Baran     False\n",
       "Salih      True\n",
       "Orhan     False\n",
       "Berkay     True\n",
       "Name: Yas, dtype: bool"
      ]
     },
     "execution_count": 64,
     "metadata": {},
     "output_type": "execute_result"
    }
   ],
   "source": [
    "yeniDataFrame[\"Yas\"] > 0"
   ]
  },
  {
   "cell_type": "code",
   "execution_count": 65,
   "id": "2b36522f",
   "metadata": {},
   "outputs": [
    {
     "data": {
      "text/html": [
       "<div>\n",
       "<style scoped>\n",
       "    .dataframe tbody tr th:only-of-type {\n",
       "        vertical-align: middle;\n",
       "    }\n",
       "\n",
       "    .dataframe tbody tr th {\n",
       "        vertical-align: top;\n",
       "    }\n",
       "\n",
       "    .dataframe thead th {\n",
       "        text-align: right;\n",
       "    }\n",
       "</style>\n",
       "<table border=\"1\" class=\"dataframe\">\n",
       "  <thead>\n",
       "    <tr style=\"text-align: right;\">\n",
       "      <th></th>\n",
       "      <th>Maas</th>\n",
       "      <th>Yas</th>\n",
       "      <th>Calisma Saati</th>\n",
       "    </tr>\n",
       "  </thead>\n",
       "  <tbody>\n",
       "    <tr>\n",
       "      <th>Salih</th>\n",
       "      <td>0.430090</td>\n",
       "      <td>0.292646</td>\n",
       "      <td>1.801196</td>\n",
       "    </tr>\n",
       "    <tr>\n",
       "      <th>Berkay</th>\n",
       "      <td>-0.836927</td>\n",
       "      <td>0.167334</td>\n",
       "      <td>-0.272794</td>\n",
       "    </tr>\n",
       "  </tbody>\n",
       "</table>\n",
       "</div>"
      ],
      "text/plain": [
       "            Maas       Yas  Calisma Saati\n",
       "Salih   0.430090  0.292646       1.801196\n",
       "Berkay -0.836927  0.167334      -0.272794"
      ]
     },
     "execution_count": 65,
     "metadata": {},
     "output_type": "execute_result"
    }
   ],
   "source": [
    "yeniDataFrame[yeniDataFrame[\"Yas\"] > 0]"
   ]
  },
  {
   "cell_type": "code",
   "execution_count": 66,
   "id": "779c5d3c",
   "metadata": {},
   "outputs": [
    {
     "data": {
      "text/html": [
       "<div>\n",
       "<style scoped>\n",
       "    .dataframe tbody tr th:only-of-type {\n",
       "        vertical-align: middle;\n",
       "    }\n",
       "\n",
       "    .dataframe tbody tr th {\n",
       "        vertical-align: top;\n",
       "    }\n",
       "\n",
       "    .dataframe thead th {\n",
       "        text-align: right;\n",
       "    }\n",
       "</style>\n",
       "<table border=\"1\" class=\"dataframe\">\n",
       "  <thead>\n",
       "    <tr style=\"text-align: right;\">\n",
       "      <th></th>\n",
       "      <th>Maas</th>\n",
       "      <th>Yas</th>\n",
       "      <th>Calisma Saati</th>\n",
       "    </tr>\n",
       "  </thead>\n",
       "  <tbody>\n",
       "    <tr>\n",
       "      <th>Baran</th>\n",
       "      <td>1.533291</td>\n",
       "      <td>-1.578431</td>\n",
       "      <td>-1.500026</td>\n",
       "    </tr>\n",
       "    <tr>\n",
       "      <th>Salih</th>\n",
       "      <td>0.430090</td>\n",
       "      <td>0.292646</td>\n",
       "      <td>1.801196</td>\n",
       "    </tr>\n",
       "    <tr>\n",
       "      <th>Orhan</th>\n",
       "      <td>0.765130</td>\n",
       "      <td>-1.006136</td>\n",
       "      <td>-1.168472</td>\n",
       "    </tr>\n",
       "    <tr>\n",
       "      <th>Berkay</th>\n",
       "      <td>-0.836927</td>\n",
       "      <td>0.167334</td>\n",
       "      <td>-0.272794</td>\n",
       "    </tr>\n",
       "  </tbody>\n",
       "</table>\n",
       "</div>"
      ],
      "text/plain": [
       "            Maas       Yas  Calisma Saati\n",
       "Baran   1.533291 -1.578431      -1.500026\n",
       "Salih   0.430090  0.292646       1.801196\n",
       "Orhan   0.765130 -1.006136      -1.168472\n",
       "Berkay -0.836927  0.167334      -0.272794"
      ]
     },
     "execution_count": 66,
     "metadata": {},
     "output_type": "execute_result"
    }
   ],
   "source": [
    "yeniDataFrame"
   ]
  },
  {
   "cell_type": "code",
   "execution_count": 67,
   "id": "06a3cf0c",
   "metadata": {},
   "outputs": [
    {
     "data": {
      "text/html": [
       "<div>\n",
       "<style scoped>\n",
       "    .dataframe tbody tr th:only-of-type {\n",
       "        vertical-align: middle;\n",
       "    }\n",
       "\n",
       "    .dataframe tbody tr th {\n",
       "        vertical-align: top;\n",
       "    }\n",
       "\n",
       "    .dataframe thead th {\n",
       "        text-align: right;\n",
       "    }\n",
       "</style>\n",
       "<table border=\"1\" class=\"dataframe\">\n",
       "  <thead>\n",
       "    <tr style=\"text-align: right;\">\n",
       "      <th></th>\n",
       "      <th>index</th>\n",
       "      <th>Maas</th>\n",
       "      <th>Yas</th>\n",
       "      <th>Calisma Saati</th>\n",
       "    </tr>\n",
       "  </thead>\n",
       "  <tbody>\n",
       "    <tr>\n",
       "      <th>0</th>\n",
       "      <td>Baran</td>\n",
       "      <td>1.533291</td>\n",
       "      <td>-1.578431</td>\n",
       "      <td>-1.500026</td>\n",
       "    </tr>\n",
       "    <tr>\n",
       "      <th>1</th>\n",
       "      <td>Salih</td>\n",
       "      <td>0.430090</td>\n",
       "      <td>0.292646</td>\n",
       "      <td>1.801196</td>\n",
       "    </tr>\n",
       "    <tr>\n",
       "      <th>2</th>\n",
       "      <td>Orhan</td>\n",
       "      <td>0.765130</td>\n",
       "      <td>-1.006136</td>\n",
       "      <td>-1.168472</td>\n",
       "    </tr>\n",
       "    <tr>\n",
       "      <th>3</th>\n",
       "      <td>Berkay</td>\n",
       "      <td>-0.836927</td>\n",
       "      <td>0.167334</td>\n",
       "      <td>-0.272794</td>\n",
       "    </tr>\n",
       "  </tbody>\n",
       "</table>\n",
       "</div>"
      ],
      "text/plain": [
       "    index      Maas       Yas  Calisma Saati\n",
       "0   Baran  1.533291 -1.578431      -1.500026\n",
       "1   Salih  0.430090  0.292646       1.801196\n",
       "2   Orhan  0.765130 -1.006136      -1.168472\n",
       "3  Berkay -0.836927  0.167334      -0.272794"
      ]
     },
     "execution_count": 67,
     "metadata": {},
     "output_type": "execute_result"
    }
   ],
   "source": [
    "yeniDataFrame.reset_index()"
   ]
  },
  {
   "cell_type": "code",
   "execution_count": 68,
   "id": "ebf7a8eb",
   "metadata": {},
   "outputs": [
    {
     "data": {
      "text/html": [
       "<div>\n",
       "<style scoped>\n",
       "    .dataframe tbody tr th:only-of-type {\n",
       "        vertical-align: middle;\n",
       "    }\n",
       "\n",
       "    .dataframe tbody tr th {\n",
       "        vertical-align: top;\n",
       "    }\n",
       "\n",
       "    .dataframe thead th {\n",
       "        text-align: right;\n",
       "    }\n",
       "</style>\n",
       "<table border=\"1\" class=\"dataframe\">\n",
       "  <thead>\n",
       "    <tr style=\"text-align: right;\">\n",
       "      <th></th>\n",
       "      <th>Maas</th>\n",
       "      <th>Yas</th>\n",
       "      <th>Calisma Saati</th>\n",
       "    </tr>\n",
       "  </thead>\n",
       "  <tbody>\n",
       "    <tr>\n",
       "      <th>Baran</th>\n",
       "      <td>1.533291</td>\n",
       "      <td>-1.578431</td>\n",
       "      <td>-1.500026</td>\n",
       "    </tr>\n",
       "    <tr>\n",
       "      <th>Salih</th>\n",
       "      <td>0.430090</td>\n",
       "      <td>0.292646</td>\n",
       "      <td>1.801196</td>\n",
       "    </tr>\n",
       "    <tr>\n",
       "      <th>Orhan</th>\n",
       "      <td>0.765130</td>\n",
       "      <td>-1.006136</td>\n",
       "      <td>-1.168472</td>\n",
       "    </tr>\n",
       "    <tr>\n",
       "      <th>Berkay</th>\n",
       "      <td>-0.836927</td>\n",
       "      <td>0.167334</td>\n",
       "      <td>-0.272794</td>\n",
       "    </tr>\n",
       "  </tbody>\n",
       "</table>\n",
       "</div>"
      ],
      "text/plain": [
       "            Maas       Yas  Calisma Saati\n",
       "Baran   1.533291 -1.578431      -1.500026\n",
       "Salih   0.430090  0.292646       1.801196\n",
       "Orhan   0.765130 -1.006136      -1.168472\n",
       "Berkay -0.836927  0.167334      -0.272794"
      ]
     },
     "execution_count": 68,
     "metadata": {},
     "output_type": "execute_result"
    }
   ],
   "source": [
    "yeniDataFrame"
   ]
  },
  {
   "cell_type": "code",
   "execution_count": 69,
   "id": "cd2b56b5",
   "metadata": {},
   "outputs": [],
   "source": [
    "yeniIndeksListesi = [\"Bar\",\"Sal\",\"Orh\",\"Ber\"]"
   ]
  },
  {
   "cell_type": "code",
   "execution_count": 70,
   "id": "ce9e15f3",
   "metadata": {},
   "outputs": [],
   "source": [
    "yeniDataFrame[\"Yeni Indeks\"] = yeniIndeksListesi"
   ]
  },
  {
   "cell_type": "code",
   "execution_count": 71,
   "id": "bf3d7af8",
   "metadata": {},
   "outputs": [
    {
     "data": {
      "text/html": [
       "<div>\n",
       "<style scoped>\n",
       "    .dataframe tbody tr th:only-of-type {\n",
       "        vertical-align: middle;\n",
       "    }\n",
       "\n",
       "    .dataframe tbody tr th {\n",
       "        vertical-align: top;\n",
       "    }\n",
       "\n",
       "    .dataframe thead th {\n",
       "        text-align: right;\n",
       "    }\n",
       "</style>\n",
       "<table border=\"1\" class=\"dataframe\">\n",
       "  <thead>\n",
       "    <tr style=\"text-align: right;\">\n",
       "      <th></th>\n",
       "      <th>Maas</th>\n",
       "      <th>Yas</th>\n",
       "      <th>Calisma Saati</th>\n",
       "      <th>Yeni Indeks</th>\n",
       "    </tr>\n",
       "  </thead>\n",
       "  <tbody>\n",
       "    <tr>\n",
       "      <th>Baran</th>\n",
       "      <td>1.533291</td>\n",
       "      <td>-1.578431</td>\n",
       "      <td>-1.500026</td>\n",
       "      <td>Bar</td>\n",
       "    </tr>\n",
       "    <tr>\n",
       "      <th>Salih</th>\n",
       "      <td>0.430090</td>\n",
       "      <td>0.292646</td>\n",
       "      <td>1.801196</td>\n",
       "      <td>Sal</td>\n",
       "    </tr>\n",
       "    <tr>\n",
       "      <th>Orhan</th>\n",
       "      <td>0.765130</td>\n",
       "      <td>-1.006136</td>\n",
       "      <td>-1.168472</td>\n",
       "      <td>Orh</td>\n",
       "    </tr>\n",
       "    <tr>\n",
       "      <th>Berkay</th>\n",
       "      <td>-0.836927</td>\n",
       "      <td>0.167334</td>\n",
       "      <td>-0.272794</td>\n",
       "      <td>Ber</td>\n",
       "    </tr>\n",
       "  </tbody>\n",
       "</table>\n",
       "</div>"
      ],
      "text/plain": [
       "            Maas       Yas  Calisma Saati Yeni Indeks\n",
       "Baran   1.533291 -1.578431      -1.500026         Bar\n",
       "Salih   0.430090  0.292646       1.801196         Sal\n",
       "Orhan   0.765130 -1.006136      -1.168472         Orh\n",
       "Berkay -0.836927  0.167334      -0.272794         Ber"
      ]
     },
     "execution_count": 71,
     "metadata": {},
     "output_type": "execute_result"
    }
   ],
   "source": [
    "yeniDataFrame"
   ]
  },
  {
   "cell_type": "code",
   "execution_count": 72,
   "id": "570b7f03",
   "metadata": {},
   "outputs": [
    {
     "data": {
      "text/html": [
       "<div>\n",
       "<style scoped>\n",
       "    .dataframe tbody tr th:only-of-type {\n",
       "        vertical-align: middle;\n",
       "    }\n",
       "\n",
       "    .dataframe tbody tr th {\n",
       "        vertical-align: top;\n",
       "    }\n",
       "\n",
       "    .dataframe thead th {\n",
       "        text-align: right;\n",
       "    }\n",
       "</style>\n",
       "<table border=\"1\" class=\"dataframe\">\n",
       "  <thead>\n",
       "    <tr style=\"text-align: right;\">\n",
       "      <th></th>\n",
       "      <th>Maas</th>\n",
       "      <th>Yas</th>\n",
       "      <th>Calisma Saati</th>\n",
       "    </tr>\n",
       "    <tr>\n",
       "      <th>Yeni Indeks</th>\n",
       "      <th></th>\n",
       "      <th></th>\n",
       "      <th></th>\n",
       "    </tr>\n",
       "  </thead>\n",
       "  <tbody>\n",
       "    <tr>\n",
       "      <th>Bar</th>\n",
       "      <td>1.533291</td>\n",
       "      <td>-1.578431</td>\n",
       "      <td>-1.500026</td>\n",
       "    </tr>\n",
       "    <tr>\n",
       "      <th>Sal</th>\n",
       "      <td>0.430090</td>\n",
       "      <td>0.292646</td>\n",
       "      <td>1.801196</td>\n",
       "    </tr>\n",
       "    <tr>\n",
       "      <th>Orh</th>\n",
       "      <td>0.765130</td>\n",
       "      <td>-1.006136</td>\n",
       "      <td>-1.168472</td>\n",
       "    </tr>\n",
       "    <tr>\n",
       "      <th>Ber</th>\n",
       "      <td>-0.836927</td>\n",
       "      <td>0.167334</td>\n",
       "      <td>-0.272794</td>\n",
       "    </tr>\n",
       "  </tbody>\n",
       "</table>\n",
       "</div>"
      ],
      "text/plain": [
       "                 Maas       Yas  Calisma Saati\n",
       "Yeni Indeks                                   \n",
       "Bar          1.533291 -1.578431      -1.500026\n",
       "Sal          0.430090  0.292646       1.801196\n",
       "Orh          0.765130 -1.006136      -1.168472\n",
       "Ber         -0.836927  0.167334      -0.272794"
      ]
     },
     "execution_count": 72,
     "metadata": {},
     "output_type": "execute_result"
    }
   ],
   "source": [
    "yeniDataFrame.set_index(\"Yeni Indeks\")"
   ]
  },
  {
   "cell_type": "code",
   "execution_count": 73,
   "id": "46494809",
   "metadata": {},
   "outputs": [
    {
     "data": {
      "text/html": [
       "<div>\n",
       "<style scoped>\n",
       "    .dataframe tbody tr th:only-of-type {\n",
       "        vertical-align: middle;\n",
       "    }\n",
       "\n",
       "    .dataframe tbody tr th {\n",
       "        vertical-align: top;\n",
       "    }\n",
       "\n",
       "    .dataframe thead th {\n",
       "        text-align: right;\n",
       "    }\n",
       "</style>\n",
       "<table border=\"1\" class=\"dataframe\">\n",
       "  <thead>\n",
       "    <tr style=\"text-align: right;\">\n",
       "      <th></th>\n",
       "      <th>Maas</th>\n",
       "      <th>Yas</th>\n",
       "      <th>Calisma Saati</th>\n",
       "      <th>Yeni Indeks</th>\n",
       "    </tr>\n",
       "  </thead>\n",
       "  <tbody>\n",
       "    <tr>\n",
       "      <th>Baran</th>\n",
       "      <td>1.533291</td>\n",
       "      <td>-1.578431</td>\n",
       "      <td>-1.500026</td>\n",
       "      <td>Bar</td>\n",
       "    </tr>\n",
       "    <tr>\n",
       "      <th>Salih</th>\n",
       "      <td>0.430090</td>\n",
       "      <td>0.292646</td>\n",
       "      <td>1.801196</td>\n",
       "      <td>Sal</td>\n",
       "    </tr>\n",
       "    <tr>\n",
       "      <th>Orhan</th>\n",
       "      <td>0.765130</td>\n",
       "      <td>-1.006136</td>\n",
       "      <td>-1.168472</td>\n",
       "      <td>Orh</td>\n",
       "    </tr>\n",
       "    <tr>\n",
       "      <th>Berkay</th>\n",
       "      <td>-0.836927</td>\n",
       "      <td>0.167334</td>\n",
       "      <td>-0.272794</td>\n",
       "      <td>Ber</td>\n",
       "    </tr>\n",
       "  </tbody>\n",
       "</table>\n",
       "</div>"
      ],
      "text/plain": [
       "            Maas       Yas  Calisma Saati Yeni Indeks\n",
       "Baran   1.533291 -1.578431      -1.500026         Bar\n",
       "Salih   0.430090  0.292646       1.801196         Sal\n",
       "Orhan   0.765130 -1.006136      -1.168472         Orh\n",
       "Berkay -0.836927  0.167334      -0.272794         Ber"
      ]
     },
     "execution_count": 73,
     "metadata": {},
     "output_type": "execute_result"
    }
   ],
   "source": [
    "yeniDataFrame"
   ]
  },
  {
   "cell_type": "code",
   "execution_count": 74,
   "id": "23d503f2",
   "metadata": {},
   "outputs": [],
   "source": [
    "yeniDataFrame.set_index(\"Yeni Indeks\",inplace=True)"
   ]
  },
  {
   "cell_type": "code",
   "execution_count": 75,
   "id": "61538a74",
   "metadata": {},
   "outputs": [
    {
     "data": {
      "text/html": [
       "<div>\n",
       "<style scoped>\n",
       "    .dataframe tbody tr th:only-of-type {\n",
       "        vertical-align: middle;\n",
       "    }\n",
       "\n",
       "    .dataframe tbody tr th {\n",
       "        vertical-align: top;\n",
       "    }\n",
       "\n",
       "    .dataframe thead th {\n",
       "        text-align: right;\n",
       "    }\n",
       "</style>\n",
       "<table border=\"1\" class=\"dataframe\">\n",
       "  <thead>\n",
       "    <tr style=\"text-align: right;\">\n",
       "      <th></th>\n",
       "      <th>Maas</th>\n",
       "      <th>Yas</th>\n",
       "      <th>Calisma Saati</th>\n",
       "    </tr>\n",
       "    <tr>\n",
       "      <th>Yeni Indeks</th>\n",
       "      <th></th>\n",
       "      <th></th>\n",
       "      <th></th>\n",
       "    </tr>\n",
       "  </thead>\n",
       "  <tbody>\n",
       "    <tr>\n",
       "      <th>Bar</th>\n",
       "      <td>1.533291</td>\n",
       "      <td>-1.578431</td>\n",
       "      <td>-1.500026</td>\n",
       "    </tr>\n",
       "    <tr>\n",
       "      <th>Sal</th>\n",
       "      <td>0.430090</td>\n",
       "      <td>0.292646</td>\n",
       "      <td>1.801196</td>\n",
       "    </tr>\n",
       "    <tr>\n",
       "      <th>Orh</th>\n",
       "      <td>0.765130</td>\n",
       "      <td>-1.006136</td>\n",
       "      <td>-1.168472</td>\n",
       "    </tr>\n",
       "    <tr>\n",
       "      <th>Ber</th>\n",
       "      <td>-0.836927</td>\n",
       "      <td>0.167334</td>\n",
       "      <td>-0.272794</td>\n",
       "    </tr>\n",
       "  </tbody>\n",
       "</table>\n",
       "</div>"
      ],
      "text/plain": [
       "                 Maas       Yas  Calisma Saati\n",
       "Yeni Indeks                                   \n",
       "Bar          1.533291 -1.578431      -1.500026\n",
       "Sal          0.430090  0.292646       1.801196\n",
       "Orh          0.765130 -1.006136      -1.168472\n",
       "Ber         -0.836927  0.167334      -0.272794"
      ]
     },
     "execution_count": 75,
     "metadata": {},
     "output_type": "execute_result"
    }
   ],
   "source": [
    "yeniDataFrame"
   ]
  },
  {
   "cell_type": "code",
   "execution_count": 76,
   "id": "db6fd624",
   "metadata": {},
   "outputs": [
    {
     "data": {
      "text/plain": [
       "Maas             1.533291\n",
       "Yas             -1.578431\n",
       "Calisma Saati   -1.500026\n",
       "Name: Bar, dtype: float64"
      ]
     },
     "execution_count": 76,
     "metadata": {},
     "output_type": "execute_result"
    }
   ],
   "source": [
    "yeniDataFrame.loc[\"Bar\"]"
   ]
  },
  {
   "cell_type": "code",
   "execution_count": 77,
   "id": "0c5c533e",
   "metadata": {},
   "outputs": [],
   "source": [
    "ilkIndeksler = [\"Simpson\",\"Simpson\",\"Simpson\",\"South Park\",\"South Park\"]"
   ]
  },
  {
   "cell_type": "code",
   "execution_count": 78,
   "id": "08109926",
   "metadata": {},
   "outputs": [],
   "source": [
    "icIndeksler = [\"Homer\",\"Bart\",\"Merge\",\"Cartman\",\"Kenny\",\"Kyle\"]"
   ]
  },
  {
   "cell_type": "code",
   "execution_count": 79,
   "id": "1381170f",
   "metadata": {},
   "outputs": [],
   "source": [
    "birlesmisIndeks = list(zip(ilkIndeksler,icIndeksler))"
   ]
  },
  {
   "cell_type": "code",
   "execution_count": 80,
   "id": "5db3c457",
   "metadata": {},
   "outputs": [
    {
     "data": {
      "text/plain": [
       "[('Simpson', 'Homer'),\n",
       " ('Simpson', 'Bart'),\n",
       " ('Simpson', 'Merge'),\n",
       " ('South Park', 'Cartman'),\n",
       " ('South Park', 'Kenny')]"
      ]
     },
     "execution_count": 80,
     "metadata": {},
     "output_type": "execute_result"
    }
   ],
   "source": [
    "birlesmisIndeks"
   ]
  },
  {
   "cell_type": "markdown",
   "id": "9113e266",
   "metadata": {},
   "source": [
    "GROUPBY"
   ]
  },
  {
   "cell_type": "code",
   "execution_count": 84,
   "id": "04488a01",
   "metadata": {},
   "outputs": [],
   "source": [
    "maasSozlugu = {\"Departmanlar\" : [\"Yazılım\",\"Yazılım\",\"Pazarlama\",\"Pazarlama\",\"Hukuk\",\"Hukuk\"],\n",
    "             \"Çalışan İsmi\" : [\"Ahmet\", \"Mehmet\",\"Atıl\",\"Burak\",\"Zeynep\",\"Fatma\"],\n",
    "             \"Maas\" : [100,150,200,300,400,500]\n",
    "             }"
   ]
  },
  {
   "cell_type": "code",
   "execution_count": 85,
   "id": "42f44664",
   "metadata": {},
   "outputs": [],
   "source": [
    "maasDataFrame = pd.DataFrame(maasSozlugu)"
   ]
  },
  {
   "cell_type": "code",
   "execution_count": 86,
   "id": "55203281",
   "metadata": {},
   "outputs": [
    {
     "data": {
      "text/html": [
       "<div>\n",
       "<style scoped>\n",
       "    .dataframe tbody tr th:only-of-type {\n",
       "        vertical-align: middle;\n",
       "    }\n",
       "\n",
       "    .dataframe tbody tr th {\n",
       "        vertical-align: top;\n",
       "    }\n",
       "\n",
       "    .dataframe thead th {\n",
       "        text-align: right;\n",
       "    }\n",
       "</style>\n",
       "<table border=\"1\" class=\"dataframe\">\n",
       "  <thead>\n",
       "    <tr style=\"text-align: right;\">\n",
       "      <th></th>\n",
       "      <th>Departmanlar</th>\n",
       "      <th>Çalışan İsmi</th>\n",
       "      <th>Maas</th>\n",
       "    </tr>\n",
       "  </thead>\n",
       "  <tbody>\n",
       "    <tr>\n",
       "      <th>0</th>\n",
       "      <td>Yazılım</td>\n",
       "      <td>Ahmet</td>\n",
       "      <td>100</td>\n",
       "    </tr>\n",
       "    <tr>\n",
       "      <th>1</th>\n",
       "      <td>Yazılım</td>\n",
       "      <td>Mehmet</td>\n",
       "      <td>150</td>\n",
       "    </tr>\n",
       "    <tr>\n",
       "      <th>2</th>\n",
       "      <td>Pazarlama</td>\n",
       "      <td>Atıl</td>\n",
       "      <td>200</td>\n",
       "    </tr>\n",
       "    <tr>\n",
       "      <th>3</th>\n",
       "      <td>Pazarlama</td>\n",
       "      <td>Burak</td>\n",
       "      <td>300</td>\n",
       "    </tr>\n",
       "    <tr>\n",
       "      <th>4</th>\n",
       "      <td>Hukuk</td>\n",
       "      <td>Zeynep</td>\n",
       "      <td>400</td>\n",
       "    </tr>\n",
       "    <tr>\n",
       "      <th>5</th>\n",
       "      <td>Hukuk</td>\n",
       "      <td>Fatma</td>\n",
       "      <td>500</td>\n",
       "    </tr>\n",
       "  </tbody>\n",
       "</table>\n",
       "</div>"
      ],
      "text/plain": [
       "  Departmanlar Çalışan İsmi  Maas\n",
       "0      Yazılım        Ahmet   100\n",
       "1      Yazılım       Mehmet   150\n",
       "2    Pazarlama         Atıl   200\n",
       "3    Pazarlama        Burak   300\n",
       "4        Hukuk       Zeynep   400\n",
       "5        Hukuk        Fatma   500"
      ]
     },
     "execution_count": 86,
     "metadata": {},
     "output_type": "execute_result"
    }
   ],
   "source": [
    "maasDataFrame"
   ]
  },
  {
   "cell_type": "code",
   "execution_count": 90,
   "id": "f8edbc72",
   "metadata": {},
   "outputs": [],
   "source": [
    "grupObjesi = maasDataFrame.groupby(\"Departmanlar\")"
   ]
  },
  {
   "cell_type": "code",
   "execution_count": 91,
   "id": "26ab4bad",
   "metadata": {},
   "outputs": [
    {
     "data": {
      "text/html": [
       "<div>\n",
       "<style scoped>\n",
       "    .dataframe tbody tr th:only-of-type {\n",
       "        vertical-align: middle;\n",
       "    }\n",
       "\n",
       "    .dataframe tbody tr th {\n",
       "        vertical-align: top;\n",
       "    }\n",
       "\n",
       "    .dataframe thead th {\n",
       "        text-align: right;\n",
       "    }\n",
       "</style>\n",
       "<table border=\"1\" class=\"dataframe\">\n",
       "  <thead>\n",
       "    <tr style=\"text-align: right;\">\n",
       "      <th></th>\n",
       "      <th>Çalışan İsmi</th>\n",
       "      <th>Maas</th>\n",
       "    </tr>\n",
       "    <tr>\n",
       "      <th>Departmanlar</th>\n",
       "      <th></th>\n",
       "      <th></th>\n",
       "    </tr>\n",
       "  </thead>\n",
       "  <tbody>\n",
       "    <tr>\n",
       "      <th>Hukuk</th>\n",
       "      <td>2</td>\n",
       "      <td>2</td>\n",
       "    </tr>\n",
       "    <tr>\n",
       "      <th>Pazarlama</th>\n",
       "      <td>2</td>\n",
       "      <td>2</td>\n",
       "    </tr>\n",
       "    <tr>\n",
       "      <th>Yazılım</th>\n",
       "      <td>2</td>\n",
       "      <td>2</td>\n",
       "    </tr>\n",
       "  </tbody>\n",
       "</table>\n",
       "</div>"
      ],
      "text/plain": [
       "              Çalışan İsmi  Maas\n",
       "Departmanlar                    \n",
       "Hukuk                    2     2\n",
       "Pazarlama                2     2\n",
       "Yazılım                  2     2"
      ]
     },
     "execution_count": 91,
     "metadata": {},
     "output_type": "execute_result"
    }
   ],
   "source": [
    "grupObjesi.count()"
   ]
  },
  {
   "cell_type": "code",
   "execution_count": 92,
   "id": "808e9d16",
   "metadata": {},
   "outputs": [
    {
     "name": "stderr",
     "output_type": "stream",
     "text": [
      "C:\\Users\\bct\\AppData\\Local\\Temp\\ipykernel_20444\\104408460.py:1: FutureWarning: The default value of numeric_only in DataFrameGroupBy.mean is deprecated. In a future version, numeric_only will default to False. Either specify numeric_only or select only columns which should be valid for the function.\n",
      "  grupObjesi.mean()\n"
     ]
    },
    {
     "data": {
      "text/html": [
       "<div>\n",
       "<style scoped>\n",
       "    .dataframe tbody tr th:only-of-type {\n",
       "        vertical-align: middle;\n",
       "    }\n",
       "\n",
       "    .dataframe tbody tr th {\n",
       "        vertical-align: top;\n",
       "    }\n",
       "\n",
       "    .dataframe thead th {\n",
       "        text-align: right;\n",
       "    }\n",
       "</style>\n",
       "<table border=\"1\" class=\"dataframe\">\n",
       "  <thead>\n",
       "    <tr style=\"text-align: right;\">\n",
       "      <th></th>\n",
       "      <th>Maas</th>\n",
       "    </tr>\n",
       "    <tr>\n",
       "      <th>Departmanlar</th>\n",
       "      <th></th>\n",
       "    </tr>\n",
       "  </thead>\n",
       "  <tbody>\n",
       "    <tr>\n",
       "      <th>Hukuk</th>\n",
       "      <td>450.0</td>\n",
       "    </tr>\n",
       "    <tr>\n",
       "      <th>Pazarlama</th>\n",
       "      <td>250.0</td>\n",
       "    </tr>\n",
       "    <tr>\n",
       "      <th>Yazılım</th>\n",
       "      <td>125.0</td>\n",
       "    </tr>\n",
       "  </tbody>\n",
       "</table>\n",
       "</div>"
      ],
      "text/plain": [
       "               Maas\n",
       "Departmanlar       \n",
       "Hukuk         450.0\n",
       "Pazarlama     250.0\n",
       "Yazılım       125.0"
      ]
     },
     "execution_count": 92,
     "metadata": {},
     "output_type": "execute_result"
    }
   ],
   "source": [
    "grupObjesi.mean()"
   ]
  },
  {
   "cell_type": "code",
   "execution_count": 94,
   "id": "e9992b2b",
   "metadata": {},
   "outputs": [
    {
     "data": {
      "text/html": [
       "<div>\n",
       "<style scoped>\n",
       "    .dataframe tbody tr th:only-of-type {\n",
       "        vertical-align: middle;\n",
       "    }\n",
       "\n",
       "    .dataframe tbody tr th {\n",
       "        vertical-align: top;\n",
       "    }\n",
       "\n",
       "    .dataframe thead th {\n",
       "        text-align: right;\n",
       "    }\n",
       "</style>\n",
       "<table border=\"1\" class=\"dataframe\">\n",
       "  <thead>\n",
       "    <tr style=\"text-align: right;\">\n",
       "      <th></th>\n",
       "      <th>Çalışan İsmi</th>\n",
       "      <th>Maas</th>\n",
       "    </tr>\n",
       "    <tr>\n",
       "      <th>Departmanlar</th>\n",
       "      <th></th>\n",
       "      <th></th>\n",
       "    </tr>\n",
       "  </thead>\n",
       "  <tbody>\n",
       "    <tr>\n",
       "      <th>Hukuk</th>\n",
       "      <td>Fatma</td>\n",
       "      <td>400</td>\n",
       "    </tr>\n",
       "    <tr>\n",
       "      <th>Pazarlama</th>\n",
       "      <td>Atıl</td>\n",
       "      <td>200</td>\n",
       "    </tr>\n",
       "    <tr>\n",
       "      <th>Yazılım</th>\n",
       "      <td>Ahmet</td>\n",
       "      <td>100</td>\n",
       "    </tr>\n",
       "  </tbody>\n",
       "</table>\n",
       "</div>"
      ],
      "text/plain": [
       "             Çalışan İsmi  Maas\n",
       "Departmanlar                   \n",
       "Hukuk               Fatma   400\n",
       "Pazarlama            Atıl   200\n",
       "Yazılım             Ahmet   100"
      ]
     },
     "execution_count": 94,
     "metadata": {},
     "output_type": "execute_result"
    }
   ],
   "source": [
    "grupObjesi.min()"
   ]
  },
  {
   "cell_type": "code",
   "execution_count": 95,
   "id": "da212595",
   "metadata": {},
   "outputs": [
    {
     "data": {
      "text/html": [
       "<div>\n",
       "<style scoped>\n",
       "    .dataframe tbody tr th:only-of-type {\n",
       "        vertical-align: middle;\n",
       "    }\n",
       "\n",
       "    .dataframe tbody tr th {\n",
       "        vertical-align: top;\n",
       "    }\n",
       "\n",
       "    .dataframe thead th {\n",
       "        text-align: right;\n",
       "    }\n",
       "</style>\n",
       "<table border=\"1\" class=\"dataframe\">\n",
       "  <thead>\n",
       "    <tr style=\"text-align: right;\">\n",
       "      <th></th>\n",
       "      <th>Çalışan İsmi</th>\n",
       "      <th>Maas</th>\n",
       "    </tr>\n",
       "    <tr>\n",
       "      <th>Departmanlar</th>\n",
       "      <th></th>\n",
       "      <th></th>\n",
       "    </tr>\n",
       "  </thead>\n",
       "  <tbody>\n",
       "    <tr>\n",
       "      <th>Hukuk</th>\n",
       "      <td>Zeynep</td>\n",
       "      <td>500</td>\n",
       "    </tr>\n",
       "    <tr>\n",
       "      <th>Pazarlama</th>\n",
       "      <td>Burak</td>\n",
       "      <td>300</td>\n",
       "    </tr>\n",
       "    <tr>\n",
       "      <th>Yazılım</th>\n",
       "      <td>Mehmet</td>\n",
       "      <td>150</td>\n",
       "    </tr>\n",
       "  </tbody>\n",
       "</table>\n",
       "</div>"
      ],
      "text/plain": [
       "             Çalışan İsmi  Maas\n",
       "Departmanlar                   \n",
       "Hukuk              Zeynep   500\n",
       "Pazarlama           Burak   300\n",
       "Yazılım            Mehmet   150"
      ]
     },
     "execution_count": 95,
     "metadata": {},
     "output_type": "execute_result"
    }
   ],
   "source": [
    "grupObjesi.max()"
   ]
  },
  {
   "cell_type": "code",
   "execution_count": 96,
   "id": "73ad1b85",
   "metadata": {},
   "outputs": [
    {
     "data": {
      "text/html": [
       "<div>\n",
       "<style scoped>\n",
       "    .dataframe tbody tr th:only-of-type {\n",
       "        vertical-align: middle;\n",
       "    }\n",
       "\n",
       "    .dataframe tbody tr th {\n",
       "        vertical-align: top;\n",
       "    }\n",
       "\n",
       "    .dataframe thead tr th {\n",
       "        text-align: left;\n",
       "    }\n",
       "\n",
       "    .dataframe thead tr:last-of-type th {\n",
       "        text-align: right;\n",
       "    }\n",
       "</style>\n",
       "<table border=\"1\" class=\"dataframe\">\n",
       "  <thead>\n",
       "    <tr>\n",
       "      <th></th>\n",
       "      <th colspan=\"8\" halign=\"left\">Maas</th>\n",
       "    </tr>\n",
       "    <tr>\n",
       "      <th></th>\n",
       "      <th>count</th>\n",
       "      <th>mean</th>\n",
       "      <th>std</th>\n",
       "      <th>min</th>\n",
       "      <th>25%</th>\n",
       "      <th>50%</th>\n",
       "      <th>75%</th>\n",
       "      <th>max</th>\n",
       "    </tr>\n",
       "    <tr>\n",
       "      <th>Departmanlar</th>\n",
       "      <th></th>\n",
       "      <th></th>\n",
       "      <th></th>\n",
       "      <th></th>\n",
       "      <th></th>\n",
       "      <th></th>\n",
       "      <th></th>\n",
       "      <th></th>\n",
       "    </tr>\n",
       "  </thead>\n",
       "  <tbody>\n",
       "    <tr>\n",
       "      <th>Hukuk</th>\n",
       "      <td>2.0</td>\n",
       "      <td>450.0</td>\n",
       "      <td>70.710678</td>\n",
       "      <td>400.0</td>\n",
       "      <td>425.0</td>\n",
       "      <td>450.0</td>\n",
       "      <td>475.0</td>\n",
       "      <td>500.0</td>\n",
       "    </tr>\n",
       "    <tr>\n",
       "      <th>Pazarlama</th>\n",
       "      <td>2.0</td>\n",
       "      <td>250.0</td>\n",
       "      <td>70.710678</td>\n",
       "      <td>200.0</td>\n",
       "      <td>225.0</td>\n",
       "      <td>250.0</td>\n",
       "      <td>275.0</td>\n",
       "      <td>300.0</td>\n",
       "    </tr>\n",
       "    <tr>\n",
       "      <th>Yazılım</th>\n",
       "      <td>2.0</td>\n",
       "      <td>125.0</td>\n",
       "      <td>35.355339</td>\n",
       "      <td>100.0</td>\n",
       "      <td>112.5</td>\n",
       "      <td>125.0</td>\n",
       "      <td>137.5</td>\n",
       "      <td>150.0</td>\n",
       "    </tr>\n",
       "  </tbody>\n",
       "</table>\n",
       "</div>"
      ],
      "text/plain": [
       "              Maas                                                     \n",
       "             count   mean        std    min    25%    50%    75%    max\n",
       "Departmanlar                                                           \n",
       "Hukuk          2.0  450.0  70.710678  400.0  425.0  450.0  475.0  500.0\n",
       "Pazarlama      2.0  250.0  70.710678  200.0  225.0  250.0  275.0  300.0\n",
       "Yazılım        2.0  125.0  35.355339  100.0  112.5  125.0  137.5  150.0"
      ]
     },
     "execution_count": 96,
     "metadata": {},
     "output_type": "execute_result"
    }
   ],
   "source": [
    "grupObjesi.describe()"
   ]
  },
  {
   "cell_type": "markdown",
   "id": "f66a771d",
   "metadata": {},
   "source": [
    "Pandas Operasyonları \"Concat\""
   ]
  },
  {
   "cell_type": "code",
   "execution_count": 102,
   "id": "57f24b1c",
   "metadata": {},
   "outputs": [],
   "source": []
  },
  {
   "cell_type": "code",
   "execution_count": null,
   "id": "ce261f51",
   "metadata": {},
   "outputs": [],
   "source": []
  },
  {
   "cell_type": "code",
   "execution_count": null,
   "id": "8b3e35e6",
   "metadata": {},
   "outputs": [],
   "source": []
  }
 ],
 "metadata": {
  "kernelspec": {
   "display_name": "Python 3 (ipykernel)",
   "language": "python",
   "name": "python3"
  },
  "language_info": {
   "codemirror_mode": {
    "name": "ipython",
    "version": 3
   },
   "file_extension": ".py",
   "mimetype": "text/x-python",
   "name": "python",
   "nbconvert_exporter": "python",
   "pygments_lexer": "ipython3",
   "version": "3.10.9"
  }
 },
 "nbformat": 4,
 "nbformat_minor": 5
}
