{
 "cells": [
  {
   "cell_type": "code",
   "execution_count": null,
   "id": "268acab5",
   "metadata": {},
   "outputs": [],
   "source": [
    "def hesapla(a,b,islem):\n",
    "    if islem not in \"+-*/\":\n",
    "        return \"Lütfen bu işlemlerden birini seçiniz: +,-,*,/\"\n",
    "    if islem ==\"+\":\n",
    "        return(str(a)+\" + \"+str(b) +\" = \" + str(a+b))\n",
    "    if islem ==\"-\":\n",
    "        return(str(a)+\" - \"+str(b) +\" = \" + str(a-b))\n",
    "    if islem ==\"*\":\n",
    "        return(str(a)+\" * \"+str(b) +\" = \" + str(a*b))\n",
    "    if islem ==\"/\":\n",
    "        return(str(a)+\" / \"+str(b) +\" = \" + str(a/b))\n",
    "\n",
    "while True:\n",
    "    try:\n",
    "        a = int(input(\"İlk sayıyı giriniz: \"))\n",
    "        b = int(input(\"İkinci sayıyı giriniz: \"))\n",
    "        islem = input(\"İşleminizi seçiniz: +,-,*,/ \")\n",
    "        print(hesapla(a,b,islem))\n",
    "    except:\n",
    "        print(\"Lütfen sayıları düzgün giriniz;\")\n",
    "    else:\n",
    "        print(\"Teşekkürler\")\n",
    "        break\n",
    "    finally:\n",
    "        print(\"finally çağrıldı\")"
   ]
  },
  {
   "cell_type": "code",
   "execution_count": null,
   "id": "276ee80a",
   "metadata": {},
   "outputs": [],
   "source": []
  }
 ],
 "metadata": {
  "kernelspec": {
   "display_name": "Python 3 (ipykernel)",
   "language": "python",
   "name": "python3"
  },
  "language_info": {
   "codemirror_mode": {
    "name": "ipython",
    "version": 3
   },
   "file_extension": ".py",
   "mimetype": "text/x-python",
   "name": "python",
   "nbconvert_exporter": "python",
   "pygments_lexer": "ipython3",
   "version": "3.10.9"
  }
 },
 "nbformat": 4,
 "nbformat_minor": 5
}
